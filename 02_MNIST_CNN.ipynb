{
  "nbformat": 4,
  "nbformat_minor": 0,
  "metadata": {
    "kernelspec": {
      "display_name": "Python 3",
      "language": "python",
      "name": "python3"
    },
    "language_info": {
      "codemirror_mode": {
        "name": "ipython",
        "version": 3
      },
      "file_extension": ".py",
      "mimetype": "text/x-python",
      "name": "python",
      "nbconvert_exporter": "python",
      "pygments_lexer": "ipython3",
      "version": "3.6.5"
    },
    "colab": {
      "name": "02_MNIST_CNN.ipynb",
      "provenance": [],
      "include_colab_link": true
    },
    "accelerator": "GPU"
  },
  "cells": [
    {
      "cell_type": "markdown",
      "metadata": {
        "id": "view-in-github",
        "colab_type": "text"
      },
      "source": [
        "<a href=\"https://colab.research.google.com/github/byOKO/Deep_Learning/blob/main/02_MNIST_CNN.ipynb\" target=\"_parent\"><img src=\"https://colab.research.google.com/assets/colab-badge.svg\" alt=\"Open In Colab\"/></a>"
      ]
    },
    {
      "cell_type": "markdown",
      "metadata": {
        "id": "tN_qZn_73d5e"
      },
      "source": [
        "### 두번째 실습. Keras 모델 생성/학습 - MNIST : CNN\n",
        "[Keras Dataset](https://keras.io/ko/datasets/#mnist)"
      ]
    },
    {
      "cell_type": "code",
      "metadata": {
        "id": "kp4rZ8lX3d5f",
        "colab": {
          "base_uri": "https://localhost:8080/"
        },
        "outputId": "1906f461-b815-4190-8777-da72afe569e4"
      },
      "source": [
        "# 1. 데이터 불러오기\n",
        "from keras.datasets import mnist\n",
        "\n",
        "(X_train, y_train), (X_test, y_test) = mnist.load_data()\n",
        "\n",
        "print(X_train.shape)\n",
        "print(y_train.shape)\n",
        "print(X_test.shape)\n",
        "print(y_test.shape)"
      ],
      "execution_count": null,
      "outputs": [
        {
          "output_type": "stream",
          "text": [
            "(60000, 28, 28)\n",
            "(60000,)\n",
            "(10000, 28, 28)\n",
            "(10000,)\n"
          ],
          "name": "stdout"
        }
      ]
    },
    {
      "cell_type": "code",
      "metadata": {
        "id": "dVkDhrW53d5f",
        "colab": {
          "base_uri": "https://localhost:8080/",
          "height": 282
        },
        "outputId": "3ae8fe38-9404-4b1e-cd18-7716ede9682d"
      },
      "source": [
        "# 2. 이미지 데이터 확인하기 🖼\n",
        "import matplotlib.pyplot as plt\n",
        "\n",
        "image_show = X_train[0]\n",
        "plt.imshow(image_show, cmap=plt.cm.gray)"
      ],
      "execution_count": null,
      "outputs": [
        {
          "output_type": "execute_result",
          "data": {
            "text/plain": [
              "<matplotlib.image.AxesImage at 0x7f35808d12b0>"
            ]
          },
          "metadata": {
            "tags": []
          },
          "execution_count": 2
        },
        {
          "output_type": "display_data",
          "data": {
            "image/png": "[encoded data removed]",
            "text/plain": [
              "<Figure size 432x288 with 1 Axes>"
            ]
          },
          "metadata": {
            "tags": [],
            "needs_background": "light"
          }
        }
      ]
    },
    {
      "cell_type": "code",
      "metadata": {
        "id": "itVAaQ1c3d5f",
        "colab": {
          "base_uri": "https://localhost:8080/"
        },
        "outputId": "916d6e8c-94ed-4dcc-aa75-ccd7d32c5cf4"
      },
      "source": [
        "# 3-1. 이미지 데이터 전처리 : 2차원->3차원 🌟🌟🌟\n",
        "\n",
        "X_train_reshaped = X_train.reshape((-1,28,28,1))\n",
        "X_test_reshaped = X_test.reshape((-1,28,28,1))\n",
        "\n",
        "print(X_train_reshaped.shape)\n",
        "print(X_test_reshaped.shape)"
      ],
      "execution_count": null,
      "outputs": [
        {
          "output_type": "stream",
          "text": [
            "(60000, 28, 28, 1)\n",
            "(10000, 28, 28, 1)\n"
          ],
          "name": "stdout"
        }
      ]
    },
    {
      "cell_type": "code",
      "metadata": {
        "id": "sO8pmE_C3d5f"
      },
      "source": [
        "# 3-2. 이미지 데이터 전처리 : Normalzation \n",
        "\n",
        "X_train_reshaped = X_train_reshaped/255\n",
        "X_test_reshaped = X_test_reshaped/255"
      ],
      "execution_count": null,
      "outputs": []
    },
    {
      "cell_type": "code",
      "metadata": {
        "id": "u5VfuR833d5f"
      },
      "source": [
        "# 4. Label 전처리 (one-hot encoding) \n",
        "from keras.utils import to_categorical\n",
        "\n",
        "y_train_encoded = to_categorical(y_train)\n",
        "y_test_encoded = to_categorical(y_test)"
      ],
      "execution_count": null,
      "outputs": []
    },
    {
      "cell_type": "code",
      "metadata": {
        "id": "Sjv3w_ub3d5f",
        "colab": {
          "base_uri": "https://localhost:8080/"
        },
        "outputId": "a75119ba-a3c4-4758-d35e-25b9381a5dae"
      },
      "source": [
        "# 5. 모델 생성 : CNN 🌟🌟🌟\n",
        "from tensorflow import keras\n",
        "from keras.layers import Dense, Conv2D, MaxPooling2D, Flatten\n",
        "\n",
        "model = keras.Sequential()\n",
        "#convolution layer 만들기\n",
        "model.add(Conv2D(filters=32,\n",
        "                 kernel_size=(3,3),\n",
        "                 padding='same', # <-> valid 지금 이미지는 edge 정보가 그닥 필요 없어서 same으로 할 필요 없음\n",
        "                 activation='relu',\n",
        "                 input_shape=(28,28,1)))\n",
        "model.add(Conv2D(32, (3,3), padding='same',activation='relu'))\n",
        "model.add(MaxPooling2D(pool_size=(2,2)))# 가로 세로 2분의 1씩 줄이겠다\n",
        "#컨벌-컨벌-맥스 똑같이 한 번 더해도 됨\n",
        "model.add(Conv2D())\n",
        "model.add(Flatten())\n",
        "model.add(Dense(units=256,activation='relu'))\n",
        "#출력층\n",
        "model.add(Dense(10,activation='softmax'))\n",
        "\n",
        "model.summary()"
      ],
      "execution_count": null,
      "outputs": [
        {
          "output_type": "stream",
          "text": [
            "Model: \"sequential\"\n",
            "_________________________________________________________________\n",
            "Layer (type)                 Output Shape              Param #   \n",
            "=================================================================\n",
            "conv2d (Conv2D)              (None, 28, 28, 32)        320       \n",
            "_________________________________________________________________\n",
            "conv2d_1 (Conv2D)            (None, 28, 28, 32)        9248      \n",
            "_________________________________________________________________\n",
            "max_pooling2d (MaxPooling2D) (None, 14, 14, 32)        0         \n",
            "_________________________________________________________________\n",
            "flatten (Flatten)            (None, 6272)              0         \n",
            "_________________________________________________________________\n",
            "dense (Dense)                (None, 256)               1605888   \n",
            "_________________________________________________________________\n",
            "dense_1 (Dense)              (None, 10)                2570      \n",
            "=================================================================\n",
            "Total params: 1,618,026\n",
            "Trainable params: 1,618,026\n",
            "Non-trainable params: 0\n",
            "_________________________________________________________________\n"
          ],
          "name": "stdout"
        }
      ]
    },
    {
      "cell_type": "code",
      "metadata": {
        "id": "GO5cfkH53d5f"
      },
      "source": [
        "# 6. Compile - Optimizer, Loss function 설정\n",
        "\n",
        "model.compile(optimizer='sgd',\n",
        "              loss='categorical_crossentropy',\n",
        "              metrics=['accuracy'])"
      ],
      "execution_count": null,
      "outputs": []
    },
    {
      "cell_type": "code",
      "metadata": {
        "id": "el-UT7wO3d5g",
        "colab": {
          "base_uri": "https://localhost:8080/"
        },
        "outputId": "c6c94dd3-6a36-411b-8cb3-8abef24909c2"
      },
      "source": [
        "# 7. 모델 학습시키기\n",
        "batch_size = 64\n",
        "epochs = 50\n",
        "\n",
        "history = model.fit(X_train_reshaped, y_train_encoded,\n",
        "                    batch_size=batch_size,\n",
        "                    epochs=epochs,\n",
        "                    validation_split=0.2)"
      ],
      "execution_count": null,
      "outputs": [
        {
          "output_type": "stream",
          "text": [
            "Epoch 1/50\n",
            "750/750 [==============================] - 3s 4ms/step - loss: 0.5940 - accuracy: 0.8334 - val_loss: 0.2691 - val_accuracy: 0.9156\n",
            "Epoch 2/50\n",
            "750/750 [==============================] - 3s 4ms/step - loss: 0.2137 - accuracy: 0.9358 - val_loss: 0.1757 - val_accuracy: 0.9510\n",
            "Epoch 3/50\n",
            "750/750 [==============================] - 3s 4ms/step - loss: 0.1580 - accuracy: 0.9525 - val_loss: 0.1620 - val_accuracy: 0.9515\n",
            "Epoch 4/50\n",
            "750/750 [==============================] - 3s 4ms/step - loss: 0.1258 - accuracy: 0.9626 - val_loss: 0.1289 - val_accuracy: 0.9622\n",
            "Epoch 5/50\n",
            "750/750 [==============================] - 3s 4ms/step - loss: 0.1073 - accuracy: 0.9668 - val_loss: 0.1106 - val_accuracy: 0.9678\n",
            "Epoch 6/50\n",
            "750/750 [==============================] - 3s 4ms/step - loss: 0.0941 - accuracy: 0.9714 - val_loss: 0.1091 - val_accuracy: 0.9666\n",
            "Epoch 7/50\n",
            "750/750 [==============================] - 3s 4ms/step - loss: 0.0839 - accuracy: 0.9740 - val_loss: 0.0908 - val_accuracy: 0.9726\n",
            "Epoch 8/50\n",
            "750/750 [==============================] - 3s 4ms/step - loss: 0.0747 - accuracy: 0.9770 - val_loss: 0.0937 - val_accuracy: 0.9718\n",
            "Epoch 9/50\n",
            "750/750 [==============================] - 3s 4ms/step - loss: 0.0695 - accuracy: 0.9787 - val_loss: 0.0894 - val_accuracy: 0.9737\n",
            "Epoch 10/50\n",
            "750/750 [==============================] - 3s 4ms/step - loss: 0.0619 - accuracy: 0.9806 - val_loss: 0.0827 - val_accuracy: 0.9763\n",
            "Epoch 11/50\n",
            "750/750 [==============================] - 3s 4ms/step - loss: 0.0572 - accuracy: 0.9821 - val_loss: 0.0963 - val_accuracy: 0.9715\n",
            "Epoch 12/50\n",
            "750/750 [==============================] - 3s 4ms/step - loss: 0.0533 - accuracy: 0.9833 - val_loss: 0.0838 - val_accuracy: 0.9737\n",
            "Epoch 13/50\n",
            "750/750 [==============================] - 3s 4ms/step - loss: 0.0491 - accuracy: 0.9845 - val_loss: 0.0784 - val_accuracy: 0.9764\n",
            "Epoch 14/50\n",
            "750/750 [==============================] - 3s 4ms/step - loss: 0.0446 - accuracy: 0.9859 - val_loss: 0.0720 - val_accuracy: 0.9783\n",
            "Epoch 15/50\n",
            "750/750 [==============================] - 3s 4ms/step - loss: 0.0419 - accuracy: 0.9873 - val_loss: 0.0793 - val_accuracy: 0.9764\n",
            "Epoch 16/50\n",
            "750/750 [==============================] - 3s 4ms/step - loss: 0.0390 - accuracy: 0.9878 - val_loss: 0.0804 - val_accuracy: 0.9779\n",
            "Epoch 17/50\n",
            "750/750 [==============================] - 3s 4ms/step - loss: 0.0361 - accuracy: 0.9890 - val_loss: 0.0711 - val_accuracy: 0.9797\n",
            "Epoch 18/50\n",
            "750/750 [==============================] - 3s 4ms/step - loss: 0.0335 - accuracy: 0.9894 - val_loss: 0.0755 - val_accuracy: 0.9788\n",
            "Epoch 19/50\n",
            "750/750 [==============================] - 3s 4ms/step - loss: 0.0310 - accuracy: 0.9903 - val_loss: 0.0731 - val_accuracy: 0.9792\n",
            "Epoch 20/50\n",
            "750/750 [==============================] - 3s 4ms/step - loss: 0.0288 - accuracy: 0.9907 - val_loss: 0.0752 - val_accuracy: 0.9799\n",
            "Epoch 21/50\n",
            "750/750 [==============================] - 3s 4ms/step - loss: 0.0273 - accuracy: 0.9916 - val_loss: 0.0775 - val_accuracy: 0.9783\n",
            "Epoch 22/50\n",
            "750/750 [==============================] - 3s 4ms/step - loss: 0.0247 - accuracy: 0.9924 - val_loss: 0.0824 - val_accuracy: 0.9775\n",
            "Epoch 23/50\n",
            "750/750 [==============================] - 3s 4ms/step - loss: 0.0235 - accuracy: 0.9925 - val_loss: 0.0731 - val_accuracy: 0.9799\n",
            "Epoch 24/50\n",
            "750/750 [==============================] - 3s 4ms/step - loss: 0.0213 - accuracy: 0.9937 - val_loss: 0.0774 - val_accuracy: 0.9799\n",
            "Epoch 25/50\n",
            "750/750 [==============================] - 3s 4ms/step - loss: 0.0203 - accuracy: 0.9935 - val_loss: 0.0699 - val_accuracy: 0.9803\n",
            "Epoch 26/50\n",
            "750/750 [==============================] - 3s 4ms/step - loss: 0.0175 - accuracy: 0.9949 - val_loss: 0.0709 - val_accuracy: 0.9809\n",
            "Epoch 27/50\n",
            "750/750 [==============================] - 3s 4ms/step - loss: 0.0173 - accuracy: 0.9947 - val_loss: 0.0738 - val_accuracy: 0.9803\n",
            "Epoch 28/50\n",
            "750/750 [==============================] - 3s 4ms/step - loss: 0.0167 - accuracy: 0.9950 - val_loss: 0.0712 - val_accuracy: 0.9804\n",
            "Epoch 29/50\n",
            "750/750 [==============================] - 3s 4ms/step - loss: 0.0159 - accuracy: 0.9953 - val_loss: 0.0801 - val_accuracy: 0.9796\n",
            "Epoch 30/50\n",
            "750/750 [==============================] - 3s 4ms/step - loss: 0.0142 - accuracy: 0.9961 - val_loss: 0.0800 - val_accuracy: 0.9803\n",
            "Epoch 31/50\n",
            "750/750 [==============================] - 3s 4ms/step - loss: 0.0136 - accuracy: 0.9959 - val_loss: 0.0709 - val_accuracy: 0.9813\n",
            "Epoch 32/50\n",
            "750/750 [==============================] - 3s 4ms/step - loss: 0.0118 - accuracy: 0.9967 - val_loss: 0.0840 - val_accuracy: 0.9803\n",
            "Epoch 33/50\n",
            "750/750 [==============================] - 3s 4ms/step - loss: 0.0106 - accuracy: 0.9972 - val_loss: 0.0790 - val_accuracy: 0.9808\n",
            "Epoch 34/50\n",
            "750/750 [==============================] - 3s 4ms/step - loss: 0.0095 - accuracy: 0.9976 - val_loss: 0.0805 - val_accuracy: 0.9800\n",
            "Epoch 35/50\n",
            "750/750 [==============================] - 3s 4ms/step - loss: 0.0097 - accuracy: 0.9971 - val_loss: 0.0733 - val_accuracy: 0.9815\n",
            "Epoch 36/50\n",
            "750/750 [==============================] - 3s 4ms/step - loss: 0.0083 - accuracy: 0.9980 - val_loss: 0.0800 - val_accuracy: 0.9806\n",
            "Epoch 37/50\n",
            "750/750 [==============================] - 3s 4ms/step - loss: 0.0082 - accuracy: 0.9979 - val_loss: 0.0728 - val_accuracy: 0.9811\n",
            "Epoch 38/50\n",
            "750/750 [==============================] - 3s 4ms/step - loss: 0.0082 - accuracy: 0.9977 - val_loss: 0.0786 - val_accuracy: 0.9814\n",
            "Epoch 39/50\n",
            "750/750 [==============================] - 3s 4ms/step - loss: 0.0062 - accuracy: 0.9985 - val_loss: 0.0758 - val_accuracy: 0.9827\n",
            "Epoch 40/50\n",
            "750/750 [==============================] - 3s 4ms/step - loss: 0.0053 - accuracy: 0.9989 - val_loss: 0.0772 - val_accuracy: 0.9823\n",
            "Epoch 41/50\n",
            "750/750 [==============================] - 3s 4ms/step - loss: 0.0047 - accuracy: 0.9991 - val_loss: 0.0752 - val_accuracy: 0.9832\n",
            "Epoch 42/50\n",
            "750/750 [==============================] - 3s 4ms/step - loss: 0.0057 - accuracy: 0.9987 - val_loss: 0.0756 - val_accuracy: 0.9828\n",
            "Epoch 43/50\n",
            "750/750 [==============================] - 3s 4ms/step - loss: 0.0047 - accuracy: 0.9990 - val_loss: 0.0774 - val_accuracy: 0.9824\n",
            "Epoch 44/50\n",
            "750/750 [==============================] - 3s 4ms/step - loss: 0.0041 - accuracy: 0.9992 - val_loss: 0.0812 - val_accuracy: 0.9822\n",
            "Epoch 45/50\n",
            "750/750 [==============================] - 3s 4ms/step - loss: 0.0036 - accuracy: 0.9994 - val_loss: 0.0798 - val_accuracy: 0.9823\n",
            "Epoch 46/50\n",
            "750/750 [==============================] - 3s 4ms/step - loss: 0.0030 - accuracy: 0.9995 - val_loss: 0.0784 - val_accuracy: 0.9824\n",
            "Epoch 47/50\n",
            "750/750 [==============================] - 3s 4ms/step - loss: 0.0030 - accuracy: 0.9994 - val_loss: 0.0791 - val_accuracy: 0.9828\n",
            "Epoch 48/50\n",
            "750/750 [==============================] - 3s 4ms/step - loss: 0.0030 - accuracy: 0.9996 - val_loss: 0.0796 - val_accuracy: 0.9823\n",
            "Epoch 49/50\n",
            "750/750 [==============================] - 3s 4ms/step - loss: 0.0024 - accuracy: 0.9997 - val_loss: 0.0791 - val_accuracy: 0.9832\n",
            "Epoch 50/50\n",
            "750/750 [==============================] - 3s 4ms/step - loss: 0.0019 - accuracy: 0.9998 - val_loss: 0.0804 - val_accuracy: 0.9828\n"
          ],
          "name": "stdout"
        }
      ]
    },
    {
      "cell_type": "code",
      "metadata": {
        "id": "vpUX3hBE3d5g",
        "colab": {
          "base_uri": "https://localhost:8080/"
        },
        "outputId": "d7e5b15c-0051-4024-ce09-d8341583098e"
      },
      "source": [
        "# 8. 모델 평가하기\n",
        "loss_test, acc_test = model.evaluate(X_test_reshaped, y_test_encoded)\n",
        "\n",
        "print(loss_test)\n",
        "print(acc_test)"
      ],
      "execution_count": null,
      "outputs": [
        {
          "output_type": "stream",
          "text": [
            "313/313 [==============================] - 1s 3ms/step - loss: 0.0615 - accuracy: 0.9844\n",
            "0.061530426144599915\n",
            "0.9843999743461609\n"
          ],
          "name": "stdout"
        }
      ]
    },
    {
      "cell_type": "code",
      "metadata": {
        "id": "_vMCkVt93d5g",
        "colab": {
          "base_uri": "https://localhost:8080/",
          "height": 677
        },
        "outputId": "f12c3c31-80d7-4501-f7cb-3ac9577af6b4"
      },
      "source": [
        "# 9. 이미지를 랜덤으로 선택해 훈련된 모델로 예측 🖼\n",
        "import numpy as np\n",
        "for index in np.random.choice(len(y_test), 3, replace = False):\n",
        "    test_image = X_test[index].reshape(1, 28, 28, 1)\n",
        "    predicted = model.predict(test_image)\n",
        "    label = y_test[index]\n",
        "    result_label = np.where(label == np.amax(label))\n",
        "    result_predicted = np.where(predicted == np.amax(predicted))\n",
        "    title = \"Label value = %s  Predicted value = %s \" % (label, result_predicted[1])\n",
        "    \n",
        "    fig = plt.figure(1, figsize = (3,3))\n",
        "    ax1 = fig.add_axes((0,0,.8,.8))\n",
        "    ax1.set_title(title)\n",
        "    images = X_test\n",
        "    plt.imshow(images[index].reshape(28, 28), cmap = 'Greys', interpolation = 'nearest')\n",
        "    plt.show()\n"
      ],
      "execution_count": null,
      "outputs": [
        {
          "output_type": "display_data",
          "data": {
            "image/png": "[encoded data removed]",
            "text/plain": [
              "<Figure size 216x216 with 1 Axes>"
            ]
          },
          "metadata": {
            "tags": [],
            "needs_background": "light"
          }
        },
        {
          "output_type": "display_data",
          "data": {
            "image/png": "[encoded data removed]",
            "text/plain": [
              "<Figure size 216x216 with 1 Axes>"
            ]
          },
          "metadata": {
            "tags": [],
            "needs_background": "light"
          }
        },
        {
          "output_type": "display_data",
          "data": {
            "image/png": "[encoded data removed]",
            "text/plain": [
              "<Figure size 216x216 with 1 Axes>"
            ]
          },
          "metadata": {
            "tags": [],
            "needs_background": "light"
          }
        }
      ]
    },
    {
      "cell_type": "code",
      "metadata": {
        "id": "lT6XOSgT3d5g"
      },
      "source": [
        "# 10. 학습 시각화하기\n"
      ],
      "execution_count": null,
      "outputs": []
    },
    {
      "cell_type": "code",
      "metadata": {
        "colab": {
          "resources": {
            "http://localhost:8080/nbextensions/google.colab/files.js": {
              "data": "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",
              "ok": true,
              "headers": [
                [
                  "content-type",
                  "application/javascript"
                ]
              ],
              "status": 200,
              "status_text": ""
            }
          },
          "base_uri": "https://localhost:8080/",
          "height": 76
        },
        "id": "EFon73AeBHtA",
        "outputId": "a41bb2a4-6d59-427c-ab2c-86c165022cb4"
      },
      "source": [
        "from google.colab import files\n",
        "\n",
        "upload = files.upload()"
      ],
      "execution_count": null,
      "outputs": [
        {
          "output_type": "display_data",
          "data": {
            "text/html": [
              "\n",
              "     <input type=\"file\" id=\"files-1d6ac912-eead-45ce-b950-ae2d1b8a7ca4\" name=\"files[]\" multiple disabled\n",
              "        style=\"border:none\" />\n",
              "     <output id=\"result-1d6ac912-eead-45ce-b950-ae2d1b8a7ca4\">\n",
              "      Upload widget is only available when the cell has been executed in the\n",
              "      current browser session. Please rerun this cell to enable.\n",
              "      </output>\n",
              "      <script src=\"/nbextensions/google.colab/files.js\"></script> "
            ],
            "text/plain": [
              "<IPython.core.display.HTML object>"
            ]
          },
          "metadata": {
            "tags": []
          }
        },
        {
          "output_type": "stream",
          "text": [
            "Saving 2.PNG to 2.PNG\n"
          ],
          "name": "stdout"
        }
      ]
    },
    {
      "cell_type": "code",
      "metadata": {
        "colab": {
          "base_uri": "https://localhost:8080/"
        },
        "id": "ZnMTfaZhBgBX",
        "outputId": "bdecf3f6-83c5-48b6-d723-4256bda7444d"
      },
      "source": [
        "ls"
      ],
      "execution_count": null,
      "outputs": [
        {
          "output_type": "stream",
          "text": [
            "2.PNG  \u001b[0m\u001b[01;34msample_data\u001b[0m/\n"
          ],
          "name": "stdout"
        }
      ]
    },
    {
      "cell_type": "code",
      "metadata": {
        "colab": {
          "base_uri": "https://localhost:8080/",
          "height": 286
        },
        "id": "8O_1VAMaBQgK",
        "outputId": "bdde9759-e225-4fee-be4b-768d42335169"
      },
      "source": [
        "import cv2\n",
        "\n",
        "image = cv2.imread('2.PNG',cv2.IMREAD_GRAYSCALE)\n",
        "plt.imshow(image, cmap=plt.cm.gray)\n"
      ],
      "execution_count": null,
      "outputs": [
        {
          "output_type": "execute_result",
          "data": {
            "text/plain": [
              "<matplotlib.image.AxesImage at 0x7f34d67e39e8>"
            ]
          },
          "metadata": {
            "tags": []
          },
          "execution_count": 28
        },
        {
          "output_type": "display_data",
          "data": {
            "image/png": "[encoded data removed]",
            "text/plain": [
              "<Figure size 432x288 with 1 Axes>"
            ]
          },
          "metadata": {
            "tags": [],
            "needs_background": "light"
          }
        }
      ]
    },
    {
      "cell_type": "code",
      "metadata": {
        "id": "GoEoV-7DCMx-"
      },
      "source": [
        "image_resized = cv2.resize(image, dsize=(28,28),\n",
        "                           interpolation=cv2.INTER_AREA)"
      ],
      "execution_count": null,
      "outputs": []
    },
    {
      "cell_type": "code",
      "metadata": {
        "colab": {
          "base_uri": "https://localhost:8080/"
        },
        "id": "0jfWbgR7BQej",
        "outputId": "08f1f448-2aa8-4de0-b01c-9de14d4320f1"
      },
      "source": [
        "image_reshaped = image_resized.reshape(28,28,1)\n",
        "print(image_reshaped.shape)"
      ],
      "execution_count": null,
      "outputs": [
        {
          "output_type": "stream",
          "text": [
            "(28, 28, 1)\n"
          ],
          "name": "stdout"
        }
      ]
    },
    {
      "cell_type": "code",
      "metadata": {
        "colab": {
          "base_uri": "https://localhost:8080/"
        },
        "id": "9x9rSDB9Cg2x",
        "outputId": "016655e5-d982-4d57-8457-42a0cca54b1e"
      },
      "source": [
        "print(model.predict([image_reshaped.reshape(1,28,28,1)]))"
      ],
      "execution_count": null,
      "outputs": [
        {
          "output_type": "stream",
          "text": [
            "[[0.         0.         0.00122057 0.         0.         0.\n",
            "  0.         0.9987795  0.         0.        ]]\n"
          ],
          "name": "stdout"
        }
      ]
    }
  ]
}