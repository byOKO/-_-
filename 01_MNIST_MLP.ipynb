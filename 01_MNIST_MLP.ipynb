{
  "nbformat": 4,
  "nbformat_minor": 0,
  "metadata": {
    "kernelspec": {
      "display_name": "Python 3",
      "language": "python",
      "name": "python3"
    },
    "language_info": {
      "codemirror_mode": {
        "name": "ipython",
        "version": 3
      },
      "file_extension": ".py",
      "mimetype": "text/x-python",
      "name": "python",
      "nbconvert_exporter": "python",
      "pygments_lexer": "ipython3",
      "version": "3.6.5"
    },
    "colab": {
      "name": "01_MNIST_MLP.ipynb",
      "provenance": [],
      "collapsed_sections": [],
      "include_colab_link": true
    }
  },
  "cells": [
    {
      "cell_type": "markdown",
      "metadata": {
        "id": "view-in-github",
        "colab_type": "text"
      },
      "source": [
        "<a href=\"https://colab.research.google.com/github/byOKO/Deep_Learning/blob/main/01_MNIST_MLP.ipynb\" target=\"_parent\"><img src=\"https://colab.research.google.com/assets/colab-badge.svg\" alt=\"Open In Colab\"/></a>"
      ]
    },
    {
      "cell_type": "markdown",
      "metadata": {
        "id": "0EA1u4vCXxyz"
      },
      "source": [
        "### 첫번째 실습. Keras 모델 생성/학습 - MNIST : MLP\n",
        "[Keras Dataset](https://keras.io/ko/datasets/#mnist)"
      ]
    },
    {
      "cell_type": "code",
      "metadata": {
        "id": "9TIg2lB4Xxy2",
        "colab": {
          "base_uri": "https://localhost:8080/"
        },
        "outputId": "5944ae86-4977-48fd-8274-5e35edaf4848"
      },
      "source": [
        "# 1. 데이터 불러오기\n",
        "from keras.datasets import mnist\n",
        "\n",
        "(X_train, y_train), (X_test, y_test) = mnist.load_data()\n",
        "\n",
        "print(X_train.shape)\n",
        "print(y_train.shape)\n",
        "print(X_test.shape)\n",
        "print(y_test.shape)\n"
      ],
      "execution_count": null,
      "outputs": [
        {
          "output_type": "stream",
          "text": [
            "Downloading data from https://storage.googleapis.com/tensorflow/tf-keras-datasets/mnist.npz\n",
            "11493376/11490434 [==============================] - 0s 0us/step\n",
            "(60000, 28, 28)\n",
            "(60000,)\n",
            "(10000, 28, 28)\n",
            "(10000,)\n"
          ],
          "name": "stdout"
        }
      ]
    },
    {
      "cell_type": "code",
      "metadata": {
        "id": "MmGb35gTXxzD",
        "colab": {
          "base_uri": "https://localhost:8080/",
          "height": 282
        },
        "outputId": "39751af1-7421-46de-d6d7-83a86b616fd2"
      },
      "source": [
        "# 2. 이미지 데이터 확인하기 🖼\n",
        "\n",
        "import matplotlib.pyplot as plt\n",
        "\n",
        "image_show = X_train[0]\n",
        "plt.imshow(image_show, cmap=plt.cm.gray) #이미지 출력, 흑백으로(cmap이용)"
      ],
      "execution_count": null,
      "outputs": [
        {
          "output_type": "execute_result",
          "data": {
            "text/plain": [
              "<matplotlib.image.AxesImage at 0x7f6195ac7d30>"
            ]
          },
          "metadata": {
            "tags": []
          },
          "execution_count": 3
        },
        {
          "output_type": "display_data",
          "data": {
            "image/png": "[encoded data removed]",
            "text/plain": [
              "<Figure size 432x288 with 1 Axes>"
            ]
          },
          "metadata": {
            "tags": [],
            "needs_background": "light"
          }
        }
      ]
    },
    {
      "cell_type": "code",
      "metadata": {
        "colab": {
          "base_uri": "https://localhost:8080/"
        },
        "id": "Fic3x9UjorlN",
        "outputId": "97bda27e-8aca-4597-9bd3-fc3b2a4d8735"
      },
      "source": [
        "print(y_train[0])   # 이미지에 대한 레이블 확인"
      ],
      "execution_count": null,
      "outputs": [
        {
          "output_type": "stream",
          "text": [
            "5\n"
          ],
          "name": "stdout"
        }
      ]
    },
    {
      "cell_type": "markdown",
      "metadata": {
        "id": "CrZqeD-unpbn"
      },
      "source": [
        ""
      ]
    },
    {
      "cell_type": "code",
      "metadata": {
        "id": "nosoxNNjXxzP",
        "colab": {
          "base_uri": "https://localhost:8080/"
        },
        "outputId": "a93bef79-85fc-4c20-d3d6-ffc83b9b818b"
      },
      "source": [
        "# 3-1. 이미지 데이터 전처리 : 2차원->1차원 🌟🌟🌟\n",
        "\n",
        "print(X_train[0].shape) # 흑백 이미지, channel = 1 (28, 28, 1)\n",
        "\n",
        "X_train_reshaped = X_train.reshape((60000,28*28)) #(-1.28*28) 도 같은 결과\n",
        "X_test_reshaped = X_test.reshape((10000,28*28))\n",
        "\n",
        "print(X_train_reshaped.shape)\n",
        "print(X_test_reshaped.shape)"
      ],
      "execution_count": null,
      "outputs": [
        {
          "output_type": "stream",
          "text": [
            "(28, 28)\n",
            "(60000, 784)\n",
            "(10000, 784)\n"
          ],
          "name": "stdout"
        }
      ]
    },
    {
      "cell_type": "code",
      "metadata": {
        "colab": {
          "base_uri": "https://localhost:8080/"
        },
        "id": "q2tcQyJ4q2Ml",
        "outputId": "8410c88a-2957-4aea-c7f4-b179a5fc281c"
      },
      "source": [
        "print(X_train[0])\n",
        "print(X_train_reshaped[0])"
      ],
      "execution_count": null,
      "outputs": [
        {
          "output_type": "stream",
          "text": [
            "[[  0   0   0   0   0   0   0   0   0   0   0   0   0   0   0   0   0   0\n",
            "    0   0   0   0   0   0   0   0   0   0]\n",
            " [  0   0   0   0   0   0   0   0   0   0   0   0   0   0   0   0   0   0\n",
            "    0   0   0   0   0   0   0   0   0   0]\n",
            " [  0   0   0   0   0   0   0   0   0   0   0   0   0   0   0   0   0   0\n",
            "    0   0   0   0   0   0   0   0   0   0]\n",
            " [  0   0   0   0   0   0   0   0   0   0   0   0   0   0   0   0   0   0\n",
            "    0   0   0   0   0   0   0   0   0   0]\n",
            " [  0   0   0   0   0   0   0   0   0   0   0   0   0   0   0   0   0   0\n",
            "    0   0   0   0   0   0   0   0   0   0]\n",
            " [  0   0   0   0   0   0   0   0   0   0   0   0   3  18  18  18 126 136\n",
            "  175  26 166 255 247 127   0   0   0   0]\n",
            " [  0   0   0   0   0   0   0   0  30  36  94 154 170 253 253 253 253 253\n",
            "  225 172 253 242 195  64   0   0   0   0]\n",
            " [  0   0   0   0   0   0   0  49 238 253 253 253 253 253 253 253 253 251\n",
            "   93  82  82  56  39   0   0   0   0   0]\n",
            " [  0   0   0   0   0   0   0  18 219 253 253 253 253 253 198 182 247 241\n",
            "    0   0   0   0   0   0   0   0   0   0]\n",
            " [  0   0   0   0   0   0   0   0  80 156 107 253 253 205  11   0  43 154\n",
            "    0   0   0   0   0   0   0   0   0   0]\n",
            " [  0   0   0   0   0   0   0   0   0  14   1 154 253  90   0   0   0   0\n",
            "    0   0   0   0   0   0   0   0   0   0]\n",
            " [  0   0   0   0   0   0   0   0   0   0   0 139 253 190   2   0   0   0\n",
            "    0   0   0   0   0   0   0   0   0   0]\n",
            " [  0   0   0   0   0   0   0   0   0   0   0  11 190 253  70   0   0   0\n",
            "    0   0   0   0   0   0   0   0   0   0]\n",
            " [  0   0   0   0   0   0   0   0   0   0   0   0  35 241 225 160 108   1\n",
            "    0   0   0   0   0   0   0   0   0   0]\n",
            " [  0   0   0   0   0   0   0   0   0   0   0   0   0  81 240 253 253 119\n",
            "   25   0   0   0   0   0   0   0   0   0]\n",
            " [  0   0   0   0   0   0   0   0   0   0   0   0   0   0  45 186 253 253\n",
            "  150  27   0   0   0   0   0   0   0   0]\n",
            " [  0   0   0   0   0   0   0   0   0   0   0   0   0   0   0  16  93 252\n",
            "  253 187   0   0   0   0   0   0   0   0]\n",
            " [  0   0   0   0   0   0   0   0   0   0   0   0   0   0   0   0   0 249\n",
            "  253 249  64   0   0   0   0   0   0   0]\n",
            " [  0   0   0   0   0   0   0   0   0   0   0   0   0   0  46 130 183 253\n",
            "  253 207   2   0   0   0   0   0   0   0]\n",
            " [  0   0   0   0   0   0   0   0   0   0   0   0  39 148 229 253 253 253\n",
            "  250 182   0   0   0   0   0   0   0   0]\n",
            " [  0   0   0   0   0   0   0   0   0   0  24 114 221 253 253 253 253 201\n",
            "   78   0   0   0   0   0   0   0   0   0]\n",
            " [  0   0   0   0   0   0   0   0  23  66 213 253 253 253 253 198  81   2\n",
            "    0   0   0   0   0   0   0   0   0   0]\n",
            " [  0   0   0   0   0   0  18 171 219 253 253 253 253 195  80   9   0   0\n",
            "    0   0   0   0   0   0   0   0   0   0]\n",
            " [  0   0   0   0  55 172 226 253 253 253 253 244 133  11   0   0   0   0\n",
            "    0   0   0   0   0   0   0   0   0   0]\n",
            " [  0   0   0   0 136 253 253 253 212 135 132  16   0   0   0   0   0   0\n",
            "    0   0   0   0   0   0   0   0   0   0]\n",
            " [  0   0   0   0   0   0   0   0   0   0   0   0   0   0   0   0   0   0\n",
            "    0   0   0   0   0   0   0   0   0   0]\n",
            " [  0   0   0   0   0   0   0   0   0   0   0   0   0   0   0   0   0   0\n",
            "    0   0   0   0   0   0   0   0   0   0]\n",
            " [  0   0   0   0   0   0   0   0   0   0   0   0   0   0   0   0   0   0\n",
            "    0   0   0   0   0   0   0   0   0   0]]\n",
            "[  0   0   0   0   0   0   0   0   0   0   0   0   0   0   0   0   0   0\n",
            "   0   0   0   0   0   0   0   0   0   0   0   0   0   0   0   0   0   0\n",
            "   0   0   0   0   0   0   0   0   0   0   0   0   0   0   0   0   0   0\n",
            "   0   0   0   0   0   0   0   0   0   0   0   0   0   0   0   0   0   0\n",
            "   0   0   0   0   0   0   0   0   0   0   0   0   0   0   0   0   0   0\n",
            "   0   0   0   0   0   0   0   0   0   0   0   0   0   0   0   0   0   0\n",
            "   0   0   0   0   0   0   0   0   0   0   0   0   0   0   0   0   0   0\n",
            "   0   0   0   0   0   0   0   0   0   0   0   0   0   0   0   0   0   0\n",
            "   0   0   0   0   0   0   0   0   3  18  18  18 126 136 175  26 166 255\n",
            " 247 127   0   0   0   0   0   0   0   0   0   0   0   0  30  36  94 154\n",
            " 170 253 253 253 253 253 225 172 253 242 195  64   0   0   0   0   0   0\n",
            "   0   0   0   0   0  49 238 253 253 253 253 253 253 253 253 251  93  82\n",
            "  82  56  39   0   0   0   0   0   0   0   0   0   0   0   0  18 219 253\n",
            " 253 253 253 253 198 182 247 241   0   0   0   0   0   0   0   0   0   0\n",
            "   0   0   0   0   0   0   0   0  80 156 107 253 253 205  11   0  43 154\n",
            "   0   0   0   0   0   0   0   0   0   0   0   0   0   0   0   0   0   0\n",
            "   0  14   1 154 253  90   0   0   0   0   0   0   0   0   0   0   0   0\n",
            "   0   0   0   0   0   0   0   0   0   0   0   0   0 139 253 190   2   0\n",
            "   0   0   0   0   0   0   0   0   0   0   0   0   0   0   0   0   0   0\n",
            "   0   0   0   0   0  11 190 253  70   0   0   0   0   0   0   0   0   0\n",
            "   0   0   0   0   0   0   0   0   0   0   0   0   0   0   0   0  35 241\n",
            " 225 160 108   1   0   0   0   0   0   0   0   0   0   0   0   0   0   0\n",
            "   0   0   0   0   0   0   0   0   0  81 240 253 253 119  25   0   0   0\n",
            "   0   0   0   0   0   0   0   0   0   0   0   0   0   0   0   0   0   0\n",
            "   0   0  45 186 253 253 150  27   0   0   0   0   0   0   0   0   0   0\n",
            "   0   0   0   0   0   0   0   0   0   0   0   0   0  16  93 252 253 187\n",
            "   0   0   0   0   0   0   0   0   0   0   0   0   0   0   0   0   0   0\n",
            "   0   0   0   0   0   0   0 249 253 249  64   0   0   0   0   0   0   0\n",
            "   0   0   0   0   0   0   0   0   0   0   0   0   0   0  46 130 183 253\n",
            " 253 207   2   0   0   0   0   0   0   0   0   0   0   0   0   0   0   0\n",
            "   0   0   0   0  39 148 229 253 253 253 250 182   0   0   0   0   0   0\n",
            "   0   0   0   0   0   0   0   0   0   0   0   0  24 114 221 253 253 253\n",
            " 253 201  78   0   0   0   0   0   0   0   0   0   0   0   0   0   0   0\n",
            "   0   0  23  66 213 253 253 253 253 198  81   2   0   0   0   0   0   0\n",
            "   0   0   0   0   0   0   0   0   0   0  18 171 219 253 253 253 253 195\n",
            "  80   9   0   0   0   0   0   0   0   0   0   0   0   0   0   0   0   0\n",
            "  55 172 226 253 253 253 253 244 133  11   0   0   0   0   0   0   0   0\n",
            "   0   0   0   0   0   0   0   0   0   0 136 253 253 253 212 135 132  16\n",
            "   0   0   0   0   0   0   0   0   0   0   0   0   0   0   0   0   0   0\n",
            "   0   0   0   0   0   0   0   0   0   0   0   0   0   0   0   0   0   0\n",
            "   0   0   0   0   0   0   0   0   0   0   0   0   0   0   0   0   0   0\n",
            "   0   0   0   0   0   0   0   0   0   0   0   0   0   0   0   0   0   0\n",
            "   0   0   0   0   0   0   0   0   0   0   0   0   0   0   0   0   0   0\n",
            "   0   0   0   0   0   0   0   0   0   0]\n"
          ],
          "name": "stdout"
        }
      ]
    },
    {
      "cell_type": "code",
      "metadata": {
        "id": "YfiCskEHXxzT"
      },
      "source": [
        "# 3-2. 이미지 데이터 전처리 : Normalzation \n",
        "\n",
        "# 0~255 -> 0~1 최댓값이 1이 되도록 나누어줌\n",
        "\n",
        "X_train_reshaped = X_train_reshaped/255\n",
        "X_test_reshaped = X_test_reshaped/255\n",
        "\n",
        "# print(X_train_reshaped[0])"
      ],
      "execution_count": null,
      "outputs": []
    },
    {
      "cell_type": "code",
      "metadata": {
        "id": "TKtO7TUoXxzX",
        "colab": {
          "base_uri": "https://localhost:8080/"
        },
        "outputId": "a8ba2774-62ef-4533-ce33-391d44532860"
      },
      "source": [
        "# 4. Label 전처리 (one-hot encoding) \n",
        "print(y_train[:10])"
      ],
      "execution_count": null,
      "outputs": [
        {
          "output_type": "stream",
          "text": [
            "[5 0 4 1 9 2 1 3 1 4]\n"
          ],
          "name": "stdout"
        }
      ]
    },
    {
      "cell_type": "code",
      "metadata": {
        "colab": {
          "base_uri": "https://localhost:8080/"
        },
        "id": "HwlOtK2StxIu",
        "outputId": "88de3f74-cbd7-4b18-84d8-29667ea21ff6"
      },
      "source": [
        "from keras.utils import to_categorical\n",
        "\n",
        "y_train_encoded = to_categorical(y_train)\n",
        "y_test_encoded = to_categorical(y_test)\n",
        "\n",
        "print(y_train_encoded[:10])"
      ],
      "execution_count": null,
      "outputs": [
        {
          "output_type": "stream",
          "text": [
            "[[0. 0. 0. 0. 0. 1. 0. 0. 0. 0.]\n",
            " [1. 0. 0. 0. 0. 0. 0. 0. 0. 0.]\n",
            " [0. 0. 0. 0. 1. 0. 0. 0. 0. 0.]\n",
            " [0. 1. 0. 0. 0. 0. 0. 0. 0. 0.]\n",
            " [0. 0. 0. 0. 0. 0. 0. 0. 0. 1.]\n",
            " [0. 0. 1. 0. 0. 0. 0. 0. 0. 0.]\n",
            " [0. 1. 0. 0. 0. 0. 0. 0. 0. 0.]\n",
            " [0. 0. 0. 1. 0. 0. 0. 0. 0. 0.]\n",
            " [0. 1. 0. 0. 0. 0. 0. 0. 0. 0.]\n",
            " [0. 0. 0. 0. 1. 0. 0. 0. 0. 0.]]\n"
          ],
          "name": "stdout"
        }
      ]
    },
    {
      "cell_type": "code",
      "metadata": {
        "colab": {
          "base_uri": "https://localhost:8080/"
        },
        "id": "QiWVGYRJusLM",
        "outputId": "b57d282d-9ef2-4cb0-faed-f82f464c328e"
      },
      "source": [
        "type(y_train[0])\n",
        "type(y_test_encoded[0])"
      ],
      "execution_count": null,
      "outputs": [
        {
          "output_type": "execute_result",
          "data": {
            "text/plain": [
              "numpy.ndarray"
            ]
          },
          "metadata": {
            "tags": []
          },
          "execution_count": 15
        }
      ]
    },
    {
      "cell_type": "code",
      "metadata": {
        "id": "rbn2UpioXxzc",
        "colab": {
          "base_uri": "https://localhost:8080/"
        },
        "outputId": "a817f4dd-e2af-476f-f36c-79baa7786d5f"
      },
      "source": [
        "# 5. 모델 생성 : MLP\n",
        "from tensorflow import keras\n",
        "from keras import layers\n",
        "\n",
        "model = keras.Sequential()\n",
        "\n",
        "model.add(layers.Dense(512,input_dim=784, activation = 'relu'))\n",
        "model.add(layers.Dense(128, activation='relu'))\n",
        "model.add(layers.Dense(10, activation='softmax'))\n",
        "\n",
        "model.summary()"
      ],
      "execution_count": null,
      "outputs": [
        {
          "output_type": "stream",
          "text": [
            "Model: \"sequential_1\"\n",
            "_________________________________________________________________\n",
            "Layer (type)                 Output Shape              Param #   \n",
            "=================================================================\n",
            "dense_2 (Dense)              (None, 512)               401920    \n",
            "_________________________________________________________________\n",
            "dense_3 (Dense)              (None, 128)               65664     \n",
            "_________________________________________________________________\n",
            "dense_4 (Dense)              (None, 10)                1290      \n",
            "=================================================================\n",
            "Total params: 468,874\n",
            "Trainable params: 468,874\n",
            "Non-trainable params: 0\n",
            "_________________________________________________________________\n"
          ],
          "name": "stdout"
        }
      ]
    },
    {
      "cell_type": "code",
      "metadata": {
        "id": "octZbMRKXxzf"
      },
      "source": [
        "# 6. Compile - Optimizer, Loss function 설정\n",
        "model.compile(optimizer='adam',\n",
        "              loss='categorical_crossentropy',\n",
        "              metrics=['accuracy'])"
      ],
      "execution_count": null,
      "outputs": []
    },
    {
      "cell_type": "code",
      "metadata": {
        "id": "FnZlXtfUXxzj",
        "colab": {
          "base_uri": "https://localhost:8080/"
        },
        "outputId": "7a2f7245-23b9-4496-a550-42a2a3bd29b8"
      },
      "source": [
        "# 7. 모델 학습시키기\n",
        "batch_size = 64\n",
        "epochs = 50\n",
        "\n",
        "history = model.fit(X_train_reshaped, y_train_encoded,\n",
        "                    validation_split=0.2,\n",
        "                    batch_size=batch_size,\n",
        "                    epochs=epochs)\n"
      ],
      "execution_count": null,
      "outputs": [
        {
          "output_type": "stream",
          "text": [
            "Epoch 1/50\n",
            "750/750 [==============================] - 5s 6ms/step - loss: 0.8820 - accuracy: 0.7395 - val_loss: 0.4069 - val_accuracy: 0.8862\n",
            "Epoch 2/50\n",
            "750/750 [==============================] - 4s 6ms/step - loss: 0.3795 - accuracy: 0.8911 - val_loss: 0.3166 - val_accuracy: 0.9082\n",
            "Epoch 3/50\n",
            "750/750 [==============================] - 5s 6ms/step - loss: 0.3193 - accuracy: 0.9065 - val_loss: 0.2839 - val_accuracy: 0.9190\n",
            "Epoch 4/50\n",
            "750/750 [==============================] - 5s 6ms/step - loss: 0.2826 - accuracy: 0.9179 - val_loss: 0.2594 - val_accuracy: 0.9252\n",
            "Epoch 5/50\n",
            "750/750 [==============================] - 4s 6ms/step - loss: 0.2537 - accuracy: 0.9255 - val_loss: 0.2329 - val_accuracy: 0.9300\n",
            "Epoch 6/50\n",
            "750/750 [==============================] - 4s 6ms/step - loss: 0.2262 - accuracy: 0.9332 - val_loss: 0.2060 - val_accuracy: 0.9412\n",
            "Epoch 7/50\n",
            "750/750 [==============================] - 5s 6ms/step - loss: 0.1996 - accuracy: 0.9410 - val_loss: 0.1890 - val_accuracy: 0.9461\n",
            "Epoch 8/50\n",
            "750/750 [==============================] - 5s 6ms/step - loss: 0.1780 - accuracy: 0.9474 - val_loss: 0.1753 - val_accuracy: 0.9488\n",
            "Epoch 9/50\n",
            "750/750 [==============================] - 5s 6ms/step - loss: 0.1595 - accuracy: 0.9536 - val_loss: 0.1706 - val_accuracy: 0.9497\n",
            "Epoch 10/50\n",
            "750/750 [==============================] - 5s 6ms/step - loss: 0.1431 - accuracy: 0.9581 - val_loss: 0.1459 - val_accuracy: 0.9580\n",
            "Epoch 11/50\n",
            "750/750 [==============================] - 5s 6ms/step - loss: 0.1292 - accuracy: 0.9621 - val_loss: 0.1333 - val_accuracy: 0.9619\n",
            "Epoch 12/50\n",
            "750/750 [==============================] - 5s 6ms/step - loss: 0.1162 - accuracy: 0.9657 - val_loss: 0.1283 - val_accuracy: 0.9628\n",
            "Epoch 13/50\n",
            "750/750 [==============================] - 5s 6ms/step - loss: 0.1063 - accuracy: 0.9684 - val_loss: 0.1183 - val_accuracy: 0.9649\n",
            "Epoch 14/50\n",
            "750/750 [==============================] - 5s 6ms/step - loss: 0.0970 - accuracy: 0.9712 - val_loss: 0.1176 - val_accuracy: 0.9639\n",
            "Epoch 15/50\n",
            "750/750 [==============================] - 5s 6ms/step - loss: 0.0887 - accuracy: 0.9736 - val_loss: 0.1124 - val_accuracy: 0.9671\n",
            "Epoch 16/50\n",
            "750/750 [==============================] - 5s 6ms/step - loss: 0.0805 - accuracy: 0.9759 - val_loss: 0.1064 - val_accuracy: 0.9688\n",
            "Epoch 17/50\n",
            "750/750 [==============================] - 5s 6ms/step - loss: 0.0746 - accuracy: 0.9775 - val_loss: 0.1024 - val_accuracy: 0.9697\n",
            "Epoch 18/50\n",
            "750/750 [==============================] - 4s 6ms/step - loss: 0.0688 - accuracy: 0.9794 - val_loss: 0.1002 - val_accuracy: 0.9710\n",
            "Epoch 19/50\n",
            "750/750 [==============================] - 5s 6ms/step - loss: 0.0625 - accuracy: 0.9819 - val_loss: 0.0946 - val_accuracy: 0.9732\n",
            "Epoch 20/50\n",
            "750/750 [==============================] - 5s 6ms/step - loss: 0.0582 - accuracy: 0.9826 - val_loss: 0.0953 - val_accuracy: 0.9712\n",
            "Epoch 21/50\n",
            "750/750 [==============================] - 5s 7ms/step - loss: 0.0523 - accuracy: 0.9848 - val_loss: 0.0957 - val_accuracy: 0.9718\n",
            "Epoch 22/50\n",
            "750/750 [==============================] - 5s 6ms/step - loss: 0.0487 - accuracy: 0.9860 - val_loss: 0.0903 - val_accuracy: 0.9737\n",
            "Epoch 23/50\n",
            "750/750 [==============================] - 5s 7ms/step - loss: 0.0447 - accuracy: 0.9864 - val_loss: 0.0905 - val_accuracy: 0.9736\n",
            "Epoch 24/50\n",
            "750/750 [==============================] - 5s 7ms/step - loss: 0.0409 - accuracy: 0.9880 - val_loss: 0.0886 - val_accuracy: 0.9749\n",
            "Epoch 25/50\n",
            "750/750 [==============================] - 5s 6ms/step - loss: 0.0371 - accuracy: 0.9893 - val_loss: 0.0882 - val_accuracy: 0.9741\n",
            "Epoch 26/50\n",
            "750/750 [==============================] - 5s 6ms/step - loss: 0.0346 - accuracy: 0.9896 - val_loss: 0.0891 - val_accuracy: 0.9748\n",
            "Epoch 27/50\n",
            "750/750 [==============================] - 5s 6ms/step - loss: 0.0308 - accuracy: 0.9916 - val_loss: 0.0821 - val_accuracy: 0.9754\n",
            "Epoch 28/50\n",
            "750/750 [==============================] - 5s 6ms/step - loss: 0.0293 - accuracy: 0.9916 - val_loss: 0.0823 - val_accuracy: 0.9765\n",
            "Epoch 29/50\n",
            "750/750 [==============================] - 5s 6ms/step - loss: 0.0268 - accuracy: 0.9922 - val_loss: 0.0852 - val_accuracy: 0.9759\n",
            "Epoch 30/50\n",
            "750/750 [==============================] - 5s 6ms/step - loss: 0.0237 - accuracy: 0.9934 - val_loss: 0.0836 - val_accuracy: 0.9770\n",
            "Epoch 31/50\n",
            "750/750 [==============================] - 4s 6ms/step - loss: 0.0220 - accuracy: 0.9938 - val_loss: 0.0827 - val_accuracy: 0.9769\n",
            "Epoch 32/50\n",
            "750/750 [==============================] - 5s 6ms/step - loss: 0.0196 - accuracy: 0.9944 - val_loss: 0.0814 - val_accuracy: 0.9771\n",
            "Epoch 33/50\n",
            "750/750 [==============================] - 5s 6ms/step - loss: 0.0180 - accuracy: 0.9950 - val_loss: 0.0914 - val_accuracy: 0.9737\n",
            "Epoch 34/50\n",
            "750/750 [==============================] - 4s 6ms/step - loss: 0.0165 - accuracy: 0.9958 - val_loss: 0.0836 - val_accuracy: 0.9774\n",
            "Epoch 35/50\n",
            "750/750 [==============================] - 5s 6ms/step - loss: 0.0156 - accuracy: 0.9956 - val_loss: 0.0889 - val_accuracy: 0.9766\n",
            "Epoch 36/50\n",
            "750/750 [==============================] - 5s 6ms/step - loss: 0.0131 - accuracy: 0.9966 - val_loss: 0.0849 - val_accuracy: 0.9790\n",
            "Epoch 37/50\n",
            "750/750 [==============================] - 5s 6ms/step - loss: 0.0124 - accuracy: 0.9968 - val_loss: 0.0909 - val_accuracy: 0.9764\n",
            "Epoch 38/50\n",
            "750/750 [==============================] - 5s 6ms/step - loss: 0.0106 - accuracy: 0.9974 - val_loss: 0.0863 - val_accuracy: 0.9778\n",
            "Epoch 39/50\n",
            "750/750 [==============================] - 5s 6ms/step - loss: 0.0106 - accuracy: 0.9974 - val_loss: 0.0896 - val_accuracy: 0.9792\n",
            "Epoch 40/50\n",
            "750/750 [==============================] - 5s 6ms/step - loss: 0.0098 - accuracy: 0.9976 - val_loss: 0.0872 - val_accuracy: 0.9781\n",
            "Epoch 41/50\n",
            "750/750 [==============================] - 5s 6ms/step - loss: 0.0085 - accuracy: 0.9980 - val_loss: 0.0940 - val_accuracy: 0.9778\n",
            "Epoch 42/50\n",
            "750/750 [==============================] - 4s 6ms/step - loss: 0.0080 - accuracy: 0.9980 - val_loss: 0.0976 - val_accuracy: 0.9773\n",
            "Epoch 43/50\n",
            "750/750 [==============================] - 5s 6ms/step - loss: 0.0078 - accuracy: 0.9981 - val_loss: 0.0903 - val_accuracy: 0.9777\n",
            "Epoch 44/50\n",
            "750/750 [==============================] - 5s 7ms/step - loss: 0.0070 - accuracy: 0.9983 - val_loss: 0.0933 - val_accuracy: 0.9764\n",
            "Epoch 45/50\n",
            "750/750 [==============================] - 5s 6ms/step - loss: 0.0056 - accuracy: 0.9988 - val_loss: 0.1022 - val_accuracy: 0.9763\n",
            "Epoch 46/50\n",
            "750/750 [==============================] - 5s 6ms/step - loss: 0.0065 - accuracy: 0.9985 - val_loss: 0.0915 - val_accuracy: 0.9790\n",
            "Epoch 47/50\n",
            "750/750 [==============================] - 5s 6ms/step - loss: 0.0042 - accuracy: 0.9992 - val_loss: 0.1026 - val_accuracy: 0.9760\n",
            "Epoch 48/50\n",
            "750/750 [==============================] - 5s 6ms/step - loss: 0.0045 - accuracy: 0.9992 - val_loss: 0.1052 - val_accuracy: 0.9754\n",
            "Epoch 49/50\n",
            "750/750 [==============================] - 5s 6ms/step - loss: 0.0041 - accuracy: 0.9991 - val_loss: 0.1072 - val_accuracy: 0.9759\n",
            "Epoch 50/50\n",
            "750/750 [==============================] - 5s 6ms/step - loss: 0.0049 - accuracy: 0.9988 - val_loss: 0.0974 - val_accuracy: 0.9780\n"
          ],
          "name": "stdout"
        }
      ]
    },
    {
      "cell_type": "code",
      "metadata": {
        "id": "pgYRoXaJXxzn",
        "colab": {
          "base_uri": "https://localhost:8080/"
        },
        "outputId": "129a5dff-5f5b-4d7c-baf2-82f269f2f848"
      },
      "source": [
        "# 8. 모델 평가하기\n",
        "loss_test, acc_test = model.evaluate(X_test_reshaped, y_test_encoded)\n",
        "\n",
        "print(loss_test)\n",
        "print(acc_test)"
      ],
      "execution_count": null,
      "outputs": [
        {
          "output_type": "stream",
          "text": [
            "313/313 [==============================] - 1s 2ms/step - loss: 0.0898 - accuracy: 0.9802\n",
            "0.08976061642169952\n",
            "0.9801999926567078\n"
          ],
          "name": "stdout"
        }
      ]
    },
    {
      "cell_type": "code",
      "metadata": {
        "id": "G7kPGgJEXxzv",
        "colab": {
          "base_uri": "https://localhost:8080/",
          "height": 573
        },
        "outputId": "743a9be9-82c0-4565-8fd0-fd3945c3cf85"
      },
      "source": [
        "# 9. 학습 시각화하기\n",
        "import matplotlib.pyplot as plt\n",
        "\n",
        "\n",
        "plt.plot(history.history['accuracy'])\n",
        "plt.plot(history.history['val_accuracy'])\n",
        "\n",
        "plt.title('Accuracy')\n",
        "plt.ylabel('accuracy')\n",
        "plt.xlabel('epoch')\n",
        "plt.legend(['train', 'val'], loc = 'upper left')\n",
        "plt.show()\n",
        "\n",
        "plt.plot(history.history['loss'])\n",
        "plt.plot(history.history['val_loss'])\n",
        "\n",
        "plt.title('Loss')\n",
        "plt.ylabel('loss')\n",
        "plt.xlabel('epoch')\n",
        "plt.legend(['train', 'val'], loc = 'upper left')\n",
        "plt.show()\n"
      ],
      "execution_count": null,
      "outputs": [
        {
          "output_type": "display_data",
          "data": {
            "image/png": "[encoded data removed]",
            "text/plain": [
              "<Figure size 432x288 with 1 Axes>"
            ]
          },
          "metadata": {
            "tags": [],
            "needs_background": "light"
          }
        },
        {
          "output_type": "display_data",
          "data": {
            "image/png": "[encoded data removed]",
            "text/plain": [
              "<Figure size 432x288 with 1 Axes>"
            ]
          },
          "metadata": {
            "tags": [],
            "needs_background": "light"
          }
        }
      ]
    },
    {
      "cell_type": "code",
      "metadata": {
        "id": "FLhicf8aXxzr",
        "colab": {
          "base_uri": "https://localhost:8080/",
          "height": 677
        },
        "outputId": "20fd3ed8-8368-4d5a-a0d3-2482c404735b"
      },
      "source": [
        "# 10. 이미지를 랜덤으로 선택해 훈련된 모델로 예측 🖼\n",
        "import numpy as np\n",
        "for index in np.random.choice(len(y_test), 3, replace = False):\n",
        "    test_image = X_test[index].reshape(1, 784)\n",
        "    predicted = model.predict(test_image)\n",
        "    label = y_test[index]\n",
        "    result_label = np.where(label == np.amax(label))\n",
        "    result_predicted = np.where(predicted == np.amax(predicted))\n",
        "    title = \"Label value = %s  Predicted value = %s \" % (label, result_predicted[1])\n",
        "    \n",
        "    fig = plt.figure(1, figsize = (3,3))\n",
        "    ax1 = fig.add_axes((0,0,.8,.8))\n",
        "    ax1.set_title(title)\n",
        "    images = X_test\n",
        "    plt.imshow(images[index].reshape(28, 28), cmap = 'Greys', interpolation = 'nearest')\n",
        "    plt.show()\n"
      ],
      "execution_count": null,
      "outputs": [
        {
          "output_type": "display_data",
          "data": {
            "image/png": "[encoded data removed]",
            "text/plain": [
              "<Figure size 216x216 with 1 Axes>"
            ]
          },
          "metadata": {
            "tags": [],
            "needs_background": "light"
          }
        },
        {
          "output_type": "display_data",
          "data": {
            "image/png": "[encoded data removed]",
            "text/plain": [
              "<Figure size 216x216 with 1 Axes>"
            ]
          },
          "metadata": {
            "tags": [],
            "needs_background": "light"
          }
        },
        {
          "output_type": "display_data",
          "data": {
            "image/png": "[encoded data removed]",
            "text/plain": [
              "<Figure size 216x216 with 1 Axes>"
            ]
          },
          "metadata": {
            "tags": [],
            "needs_background": "light"
          }
        }
      ]
    }
  ]
}